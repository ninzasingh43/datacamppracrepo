{
 "cells": [
  {
   "cell_type": "code",
   "execution_count": 1,
   "id": "c77a6671-9257-4875-a0f9-9da6e9ca7f95",
   "metadata": {},
   "outputs": [
    {
     "name": "stdout",
     "output_type": "stream",
     "text": [
      "python file3\n"
     ]
    }
   ],
   "source": [
    "print(\"python file3\")"
   ]
  },
  {
   "cell_type": "code",
   "execution_count": 2,
   "id": "7f664bd9-8eed-443c-a39f-3585ef74d1b5",
   "metadata": {},
   "outputs": [
    {
     "name": "stdout",
     "output_type": "stream",
     "text": [
      "python file3\n"
     ]
    }
   ],
   "source": [
    "print(\"python file3\")"
   ]
  },
  {
   "cell_type": "code",
   "execution_count": 1,
   "id": "48fcd7b6-cbea-4f72-8d86-9f3614e81c86",
   "metadata": {},
   "outputs": [
    {
     "name": "stdout",
     "output_type": "stream",
     "text": [
      "python file4\n"
     ]
    }
   ],
   "source": [
    "print(\"python file4\")"
   ]
  },
  {
   "cell_type": "code",
   "execution_count": null,
   "id": "b7d01241-de38-4f22-a748-f6826201ae1d",
   "metadata": {},
   "outputs": [],
   "source": []
  }
 ],
 "metadata": {
  "kernelspec": {
   "display_name": "Python 3 (ipykernel)",
   "language": "python",
   "name": "python3"
  },
  "language_info": {
   "codemirror_mode": {
    "name": "ipython",
    "version": 3
   },
   "file_extension": ".py",
   "mimetype": "text/x-python",
   "name": "python",
   "nbconvert_exporter": "python",
   "pygments_lexer": "ipython3",
   "version": "3.12.6"
  }
 },
 "nbformat": 4,
 "nbformat_minor": 5
}
